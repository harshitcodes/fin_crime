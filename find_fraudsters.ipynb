{
 "cells": [
  {
   "cell_type": "markdown",
   "metadata": {},
   "source": [
    "# Finding the frauds\n",
    "\n",
    "### This Ipython notebook aims to find out all the likely fraudsters based on certain features and user behavior."
   ]
  },
  {
   "cell_type": "code",
   "execution_count": 152,
   "metadata": {},
   "outputs": [],
   "source": [
    "# importing all the necessary packages \n",
    "\n",
    "import pandas as pd\n",
    "import numpy as np\n",
    "import os\n",
    "from file import *\n",
    "import matplotlib.pyplot as plt\n",
    "import warnings\n",
    "warnings.filterwarnings('ignore')\n"
   ]
  },
  {
   "cell_type": "markdown",
   "metadata": {},
   "source": [
    "### Loading the data from csv files to dataframes using pandas"
   ]
  },
  {
   "cell_type": "code",
   "execution_count": 153,
   "metadata": {},
   "outputs": [],
   "source": [
    "currency_df = pd.read_csv(os.path.join(dir_path, './fct_data/currency_details.csv'))\n",
    "fx_df = pd.read_csv(os.path.join(dir_path, './fct_data/fx_rates.csv'))\n",
    "trans_df = pd.read_csv(os.path.join(dir_path, './fct_data/transactions.csv'), index_col=0)\n",
    "users_df = pd.read_csv(os.path.join(dir_path, './fct_data/users.csv'), index_col=0)\n",
    "fraudster_df = pd.read_csv(os.path.join(dir_path, './fct_data/fraudsters.csv'), index_col=0)\n"
   ]
  },
  {
   "cell_type": "markdown",
   "metadata": {},
   "source": [
    "Converting the column headers to lowercase"
   ]
  },
  {
   "cell_type": "code",
   "execution_count": 154,
   "metadata": {},
   "outputs": [
    {
     "name": "stdout",
     "output_type": "stream",
     "text": [
      "<class 'pandas.core.frame.DataFrame'>\n",
      "Int64Index: 300 entries, 0 to 299\n",
      "Data columns (total 1 columns):\n",
      "user_id    300 non-null object\n",
      "dtypes: object(1)\n",
      "memory usage: 4.7+ KB\n"
     ]
    }
   ],
   "source": [
    "currency_df.columns = map(str.lower, currency_df.columns)\n",
    "fx_df.columns = map(str.lower, fx_df.columns)\n",
    "trans_df.columns = map(str.lower, trans_df.columns)\n",
    "users_df.columns = map(str.lower, users_df.columns)\n",
    "\n",
    "# Explore the data\n",
    "trans_df.info()"
   ]
  },
  {
   "cell_type": "markdown",
   "metadata": {},
   "source": [
    "### Exploratory Data Analysis\n",
    "\n",
    "Combining the fraudsters with the user and transaction dataframes so that we can compare both fraudsters and normal users simultaneously.\n",
    "Adding an extra column called [is_fraud] which has binary data 0 and 1. 1 for frauds and 0 for normal users."
   ]
  },
  {
   "cell_type": "code",
   "execution_count": 359,
   "metadata": {},
   "outputs": [],
   "source": [
    "trans_df['is_fraud'] = 0\n",
    "users_df['is_fraud'] = 0\n",
    "fraudster_df['is_fraud'] = 1\n",
    "\n",
    "trans_df['is_fraud'] = trans_df['user_id'].isin(fraudster_df['user_id'])\n",
    "trans_df['is_fraud'][trans_df['is_fraud'] == 1] = 1\n",
    "trans_df['is_fraud'] = trans_df['is_fraud'].astype(int)\n",
    "\n",
    "users_df['is_fraud'] = users_df['id'].isin(fraudster_df['user_id'])\n",
    "users_df['is_fraud'][users_df['is_fraud'] == 1] = 1\n",
    "users_df['is_fraud'] = users_df['is_fraud'].astype(int)\n"
   ]
  },
  {
   "cell_type": "markdown",
   "metadata": {},
   "source": [
    "### Aim: We need to finalize the features and data points which can lead us to fraudsters in the system."
   ]
  },
  {
   "cell_type": "code",
   "execution_count": 222,
   "metadata": {},
   "outputs": [
    {
     "data": {
      "text/plain": [
       "<matplotlib.axes._subplots.AxesSubplot at 0x13f65be10>"
      ]
     },
     "execution_count": 222,
     "metadata": {},
     "output_type": "execute_result"
    },
    {
     "data": {
      "image/png": "[encoded data removed]",
      "text/plain": [
       "<Figure size 432x288 with 1 Axes>"
      ]
     },
     "metadata": {
      "needs_background": "light"
     },
     "output_type": "display_data"
    }
   ],
   "source": [
    "#  plotting to check if the state of the transaction has any effect on fraudulent transactions\n",
    "trans_df[trans_df['is_fraud'] == 1].groupby('state').count()[\"is_fraud\"].plot(kind = \"bar\")\n"
   ]
  },
  {
   "cell_type": "code",
   "execution_count": 157,
   "metadata": {},
   "outputs": [
    {
     "data": {
      "text/html": [
       "<div>\n",
       "<style scoped>\n",
       "    .dataframe tbody tr th:only-of-type {\n",
       "        vertical-align: middle;\n",
       "    }\n",
       "\n",
       "    .dataframe tbody tr th {\n",
       "        vertical-align: top;\n",
       "    }\n",
       "\n",
       "    .dataframe thead th {\n",
       "        text-align: right;\n",
       "    }\n",
       "</style>\n",
       "<table border=\"1\" class=\"dataframe\">\n",
       "  <thead>\n",
       "    <tr style=\"text-align: right;\">\n",
       "      <th></th>\n",
       "      <th>failed_sign_in_attempts</th>\n",
       "      <th>birth_year</th>\n",
       "      <th>country</th>\n",
       "      <th>state</th>\n",
       "      <th>created_date</th>\n",
       "      <th>terms_version</th>\n",
       "      <th>phone_country</th>\n",
       "      <th>has_email</th>\n",
       "      <th>id</th>\n",
       "      <th>is_fraud</th>\n",
       "    </tr>\n",
       "    <tr>\n",
       "      <th>kyc</th>\n",
       "      <th></th>\n",
       "      <th></th>\n",
       "      <th></th>\n",
       "      <th></th>\n",
       "      <th></th>\n",
       "      <th></th>\n",
       "      <th></th>\n",
       "      <th></th>\n",
       "      <th></th>\n",
       "      <th></th>\n",
       "    </tr>\n",
       "  </thead>\n",
       "  <tbody>\n",
       "    <tr>\n",
       "      <th>FAILED</th>\n",
       "      <td>22</td>\n",
       "      <td>22</td>\n",
       "      <td>22</td>\n",
       "      <td>22</td>\n",
       "      <td>22</td>\n",
       "      <td>13</td>\n",
       "      <td>22</td>\n",
       "      <td>22</td>\n",
       "      <td>22</td>\n",
       "      <td>22</td>\n",
       "    </tr>\n",
       "    <tr>\n",
       "      <th>NONE</th>\n",
       "      <td>1</td>\n",
       "      <td>1</td>\n",
       "      <td>1</td>\n",
       "      <td>1</td>\n",
       "      <td>1</td>\n",
       "      <td>0</td>\n",
       "      <td>1</td>\n",
       "      <td>1</td>\n",
       "      <td>1</td>\n",
       "      <td>1</td>\n",
       "    </tr>\n",
       "    <tr>\n",
       "      <th>PASSED</th>\n",
       "      <td>260</td>\n",
       "      <td>260</td>\n",
       "      <td>260</td>\n",
       "      <td>260</td>\n",
       "      <td>260</td>\n",
       "      <td>206</td>\n",
       "      <td>260</td>\n",
       "      <td>260</td>\n",
       "      <td>260</td>\n",
       "      <td>260</td>\n",
       "    </tr>\n",
       "    <tr>\n",
       "      <th>PENDING</th>\n",
       "      <td>17</td>\n",
       "      <td>17</td>\n",
       "      <td>17</td>\n",
       "      <td>17</td>\n",
       "      <td>17</td>\n",
       "      <td>13</td>\n",
       "      <td>17</td>\n",
       "      <td>17</td>\n",
       "      <td>17</td>\n",
       "      <td>17</td>\n",
       "    </tr>\n",
       "  </tbody>\n",
       "</table>\n",
       "</div>"
      ],
      "text/plain": [
       "         failed_sign_in_attempts  birth_year  country  state  created_date  \\\n",
       "kyc                                                                          \n",
       "FAILED                        22          22       22     22            22   \n",
       "NONE                           1           1        1      1             1   \n",
       "PASSED                       260         260      260    260           260   \n",
       "PENDING                       17          17       17     17            17   \n",
       "\n",
       "         terms_version  phone_country  has_email   id  is_fraud  \n",
       "kyc                                                              \n",
       "FAILED              13             22         22   22        22  \n",
       "NONE                 0              1          1    1         1  \n",
       "PASSED             206            260        260  260       260  \n",
       "PENDING             13             17         17   17        17  "
      ]
     },
     "execution_count": 157,
     "metadata": {},
     "output_type": "execute_result"
    }
   ],
   "source": [
    "# checking for KYC as it is a very important factor for user identification and authorization\n",
    "\n",
    "fr_user_df = pd.merge(users_df, fraudster_df, left_on = \"id\", right_on = \"user_id\", how = \"left\")\n",
    "users_df[users_df['is_fraud']==1].groupby('kyc').count()"
   ]
  },
  {
   "cell_type": "code",
   "execution_count": 158,
   "metadata": {},
   "outputs": [
    {
     "data": {
      "text/html": [
       "<div>\n",
       "<style scoped>\n",
       "    .dataframe tbody tr th:only-of-type {\n",
       "        vertical-align: middle;\n",
       "    }\n",
       "\n",
       "    .dataframe tbody tr th {\n",
       "        vertical-align: top;\n",
       "    }\n",
       "\n",
       "    .dataframe thead th {\n",
       "        text-align: right;\n",
       "    }\n",
       "</style>\n",
       "<table border=\"1\" class=\"dataframe\">\n",
       "  <thead>\n",
       "    <tr style=\"text-align: right;\">\n",
       "      <th></th>\n",
       "      <th>kyc</th>\n",
       "      <th>birth_year</th>\n",
       "      <th>country</th>\n",
       "      <th>state</th>\n",
       "      <th>created_date</th>\n",
       "      <th>terms_version</th>\n",
       "      <th>phone_country</th>\n",
       "      <th>has_email</th>\n",
       "      <th>id</th>\n",
       "      <th>is_fraud</th>\n",
       "    </tr>\n",
       "    <tr>\n",
       "      <th>failed_sign_in_attempts</th>\n",
       "      <th></th>\n",
       "      <th></th>\n",
       "      <th></th>\n",
       "      <th></th>\n",
       "      <th></th>\n",
       "      <th></th>\n",
       "      <th></th>\n",
       "      <th></th>\n",
       "      <th></th>\n",
       "      <th></th>\n",
       "    </tr>\n",
       "  </thead>\n",
       "  <tbody>\n",
       "    <tr>\n",
       "      <th>0</th>\n",
       "      <td>297</td>\n",
       "      <td>297</td>\n",
       "      <td>297</td>\n",
       "      <td>297</td>\n",
       "      <td>297</td>\n",
       "      <td>229</td>\n",
       "      <td>297</td>\n",
       "      <td>297</td>\n",
       "      <td>297</td>\n",
       "      <td>297</td>\n",
       "    </tr>\n",
       "    <tr>\n",
       "      <th>1</th>\n",
       "      <td>1</td>\n",
       "      <td>1</td>\n",
       "      <td>1</td>\n",
       "      <td>1</td>\n",
       "      <td>1</td>\n",
       "      <td>1</td>\n",
       "      <td>1</td>\n",
       "      <td>1</td>\n",
       "      <td>1</td>\n",
       "      <td>1</td>\n",
       "    </tr>\n",
       "    <tr>\n",
       "      <th>2</th>\n",
       "      <td>2</td>\n",
       "      <td>2</td>\n",
       "      <td>2</td>\n",
       "      <td>2</td>\n",
       "      <td>2</td>\n",
       "      <td>2</td>\n",
       "      <td>2</td>\n",
       "      <td>2</td>\n",
       "      <td>2</td>\n",
       "      <td>2</td>\n",
       "    </tr>\n",
       "  </tbody>\n",
       "</table>\n",
       "</div>"
      ],
      "text/plain": [
       "                         kyc  birth_year  country  state  created_date  \\\n",
       "failed_sign_in_attempts                                                  \n",
       "0                        297         297      297    297           297   \n",
       "1                          1           1        1      1             1   \n",
       "2                          2           2        2      2             2   \n",
       "\n",
       "                         terms_version  phone_country  has_email   id  \\\n",
       "failed_sign_in_attempts                                                 \n",
       "0                                  229            297        297  297   \n",
       "1                                    1              1          1    1   \n",
       "2                                    2              2          2    2   \n",
       "\n",
       "                         is_fraud  \n",
       "failed_sign_in_attempts            \n",
       "0                             297  \n",
       "1                               1  \n",
       "2                               2  "
      ]
     },
     "execution_count": 158,
     "metadata": {},
     "output_type": "execute_result"
    }
   ],
   "source": [
    "# checking for number of failed_sign_in_attempts\n",
    "users_df[users_df['is_fraud']==1].groupby('failed_sign_in_attempts').count()"
   ]
  },
  {
   "cell_type": "markdown",
   "metadata": {},
   "source": [
    "Thus, failed Sign in attempts doesn't reflect much on a fraudulent transaction."
   ]
  },
  {
   "cell_type": "code",
   "execution_count": 160,
   "metadata": {},
   "outputs": [
    {
     "data": {
      "text/plain": [
       "<matplotlib.axes._subplots.AxesSubplot at 0x11c60a278>"
      ]
     },
     "execution_count": 160,
     "metadata": {},
     "output_type": "execute_result"
    },
    {
     "data": {
      "image/png": "[encoded data removed]",
      "text/plain": [
       "<Figure size 432x288 with 1 Axes>"
      ]
     },
     "metadata": {
      "needs_background": "light"
     },
     "output_type": "display_data"
    }
   ],
   "source": [
    "# type of transactions relation to number of fraudulent transactions\n",
    "\n",
    "trans_df[trans_df['is_fraud']==1].groupby('type').count()['is_fraud'].plot(kind=\"bar\")"
   ]
  },
  {
   "cell_type": "markdown",
   "metadata": {},
   "source": [
    "As can be seen in the above bar plot, CARD_PAYMENT and TOPUP are the 2 most used payment methods which are used in a fraudulent transactions."
   ]
  },
  {
   "cell_type": "markdown",
   "metadata": {},
   "source": [
    "## Question 2(a)\n",
    "\n",
    "### Approach to find the fraudsters\n",
    "\n",
    "Looking at the data and EDA results on different parameters, we must first list down all the potential features which are crucial in the process of a transaction. Listing down all the important factors which can provide some leads:\n",
    "1. KYC - Legal Identification status of the user\n",
    "2. has_email - if the user has a registered email in our database\n",
    "3. state - Is he active or passive or locked?\n",
    "4. Merchant country - Look at the country to which the amount is being transferred\n",
    "\n",
    "Now, we need to build a potential scenario by knitting together all the above parameters.\n",
    "We are basically testing the user's authenticity from all the parameters mentioned above.\n",
    "\n",
    "Logic behind declaring someone as a Fraudster:\n",
    "- If a user has its KYC failed with no email address registered and is actively using our platform.\n",
    "- Above this, check if the country is recorded in the transaction to which the transfer has been made."
   ]
  },
  {
   "cell_type": "code",
   "execution_count": 334,
   "metadata": {},
   "outputs": [
    {
     "data": {
      "text/html": [
       "<div>\n",
       "<style scoped>\n",
       "    .dataframe tbody tr th:only-of-type {\n",
       "        vertical-align: middle;\n",
       "    }\n",
       "\n",
       "    .dataframe tbody tr th {\n",
       "        vertical-align: top;\n",
       "    }\n",
       "\n",
       "    .dataframe thead th {\n",
       "        text-align: right;\n",
       "    }\n",
       "</style>\n",
       "<table border=\"1\" class=\"dataframe\">\n",
       "  <thead>\n",
       "    <tr style=\"text-align: right;\">\n",
       "      <th></th>\n",
       "      <th>failed_sign_in_attempts</th>\n",
       "      <th>kyc</th>\n",
       "      <th>birth_year</th>\n",
       "      <th>country</th>\n",
       "      <th>state_x</th>\n",
       "      <th>created_date_x</th>\n",
       "      <th>terms_version</th>\n",
       "      <th>phone_country</th>\n",
       "      <th>has_email</th>\n",
       "      <th>id_x</th>\n",
       "      <th>...</th>\n",
       "      <th>state_y</th>\n",
       "      <th>created_date_y</th>\n",
       "      <th>merchant_category</th>\n",
       "      <th>merchant_country</th>\n",
       "      <th>entry_method</th>\n",
       "      <th>user_id</th>\n",
       "      <th>type</th>\n",
       "      <th>source</th>\n",
       "      <th>id_y</th>\n",
       "      <th>is_fraud_y</th>\n",
       "    </tr>\n",
       "  </thead>\n",
       "  <tbody>\n",
       "    <tr>\n",
       "      <th>0</th>\n",
       "      <td>0</td>\n",
       "      <td>FAILED</td>\n",
       "      <td>1966</td>\n",
       "      <td>GB</td>\n",
       "      <td>ACTIVE</td>\n",
       "      <td>2015-11-06 12:39:34.355000</td>\n",
       "      <td>NaN</td>\n",
       "      <td>GB||JE||IM||GG</td>\n",
       "      <td>0</td>\n",
       "      <td>62edb2a5-8b28-466a-9a9a-b3e314f2f771</td>\n",
       "      <td>...</td>\n",
       "      <td>DECLINED</td>\n",
       "      <td>2015-11-17</td>\n",
       "      <td>NaN</td>\n",
       "      <td>NaN</td>\n",
       "      <td>misc</td>\n",
       "      <td>62edb2a5-8b28-466a-9a9a-b3e314f2f771</td>\n",
       "      <td>ATM</td>\n",
       "      <td>GAIA</td>\n",
       "      <td>9d99f7f9-ba47-42e4-8151-a5a2aef27f96</td>\n",
       "      <td>0</td>\n",
       "    </tr>\n",
       "    <tr>\n",
       "      <th>1</th>\n",
       "      <td>0</td>\n",
       "      <td>FAILED</td>\n",
       "      <td>1993</td>\n",
       "      <td>GE</td>\n",
       "      <td>ACTIVE</td>\n",
       "      <td>2015-10-18 07:02:26.487000</td>\n",
       "      <td>NaN</td>\n",
       "      <td>GE</td>\n",
       "      <td>0</td>\n",
       "      <td>f6b7f148-bb9f-42c9-9c56-9243f83ee3d5</td>\n",
       "      <td>...</td>\n",
       "      <td>FAILED</td>\n",
       "      <td>2015-11-10</td>\n",
       "      <td>NaN</td>\n",
       "      <td>NaN</td>\n",
       "      <td>misc</td>\n",
       "      <td>f6b7f148-bb9f-42c9-9c56-9243f83ee3d5</td>\n",
       "      <td>TOPUP</td>\n",
       "      <td>NYX</td>\n",
       "      <td>d659b109-0509-49b1-af70-b9a2158b33a4</td>\n",
       "      <td>0</td>\n",
       "    </tr>\n",
       "    <tr>\n",
       "      <th>2</th>\n",
       "      <td>0</td>\n",
       "      <td>FAILED</td>\n",
       "      <td>1981</td>\n",
       "      <td>GB</td>\n",
       "      <td>ACTIVE</td>\n",
       "      <td>2015-08-09 07:33:29.491000</td>\n",
       "      <td>NaN</td>\n",
       "      <td>GB||JE||IM||GG</td>\n",
       "      <td>0</td>\n",
       "      <td>82a2ecd2-0b94-4629-85c0-141d7af04e5f</td>\n",
       "      <td>...</td>\n",
       "      <td>COMPLETED</td>\n",
       "      <td>2015-09-24</td>\n",
       "      <td>NaN</td>\n",
       "      <td>ITA</td>\n",
       "      <td>misc</td>\n",
       "      <td>82a2ecd2-0b94-4629-85c0-141d7af04e5f</td>\n",
       "      <td>CARD_PAYMENT</td>\n",
       "      <td>GAIA</td>\n",
       "      <td>e60174ba-59d1-4084-bcbe-43152f7d22e4</td>\n",
       "      <td>0</td>\n",
       "    </tr>\n",
       "    <tr>\n",
       "      <th>3</th>\n",
       "      <td>0</td>\n",
       "      <td>FAILED</td>\n",
       "      <td>1981</td>\n",
       "      <td>GB</td>\n",
       "      <td>ACTIVE</td>\n",
       "      <td>2015-08-09 07:33:29.491000</td>\n",
       "      <td>NaN</td>\n",
       "      <td>GB||JE||IM||GG</td>\n",
       "      <td>0</td>\n",
       "      <td>82a2ecd2-0b94-4629-85c0-141d7af04e5f</td>\n",
       "      <td>...</td>\n",
       "      <td>COMPLETED</td>\n",
       "      <td>2015-09-27</td>\n",
       "      <td>NaN</td>\n",
       "      <td>ITA</td>\n",
       "      <td>misc</td>\n",
       "      <td>82a2ecd2-0b94-4629-85c0-141d7af04e5f</td>\n",
       "      <td>CARD_PAYMENT</td>\n",
       "      <td>GAIA</td>\n",
       "      <td>74d947bd-49e9-42f4-ba74-e18d86fa29d9</td>\n",
       "      <td>0</td>\n",
       "    </tr>\n",
       "    <tr>\n",
       "      <th>4</th>\n",
       "      <td>0</td>\n",
       "      <td>FAILED</td>\n",
       "      <td>1981</td>\n",
       "      <td>GB</td>\n",
       "      <td>ACTIVE</td>\n",
       "      <td>2015-08-09 07:33:29.491000</td>\n",
       "      <td>NaN</td>\n",
       "      <td>GB||JE||IM||GG</td>\n",
       "      <td>0</td>\n",
       "      <td>82a2ecd2-0b94-4629-85c0-141d7af04e5f</td>\n",
       "      <td>...</td>\n",
       "      <td>COMPLETED</td>\n",
       "      <td>2015-09-27</td>\n",
       "      <td>point_of_interest</td>\n",
       "      <td>GBR</td>\n",
       "      <td>misc</td>\n",
       "      <td>82a2ecd2-0b94-4629-85c0-141d7af04e5f</td>\n",
       "      <td>CARD_PAYMENT</td>\n",
       "      <td>GAIA</td>\n",
       "      <td>65c7a581-6cbd-4202-9666-f67791ae6c7d</td>\n",
       "      <td>0</td>\n",
       "    </tr>\n",
       "  </tbody>\n",
       "</table>\n",
       "<p>5 rows × 23 columns</p>\n",
       "</div>"
      ],
      "text/plain": [
       "   failed_sign_in_attempts     kyc  birth_year country state_x  \\\n",
       "0                        0  FAILED        1966      GB  ACTIVE   \n",
       "1                        0  FAILED        1993      GE  ACTIVE   \n",
       "2                        0  FAILED        1981      GB  ACTIVE   \n",
       "3                        0  FAILED        1981      GB  ACTIVE   \n",
       "4                        0  FAILED        1981      GB  ACTIVE   \n",
       "\n",
       "               created_date_x terms_version   phone_country  has_email  \\\n",
       "0  2015-11-06 12:39:34.355000           NaN  GB||JE||IM||GG          0   \n",
       "1  2015-10-18 07:02:26.487000           NaN              GE          0   \n",
       "2  2015-08-09 07:33:29.491000           NaN  GB||JE||IM||GG          0   \n",
       "3  2015-08-09 07:33:29.491000           NaN  GB||JE||IM||GG          0   \n",
       "4  2015-08-09 07:33:29.491000           NaN  GB||JE||IM||GG          0   \n",
       "\n",
       "                                   id_x    ...        state_y created_date_y  \\\n",
       "0  62edb2a5-8b28-466a-9a9a-b3e314f2f771    ...       DECLINED     2015-11-17   \n",
       "1  f6b7f148-bb9f-42c9-9c56-9243f83ee3d5    ...         FAILED     2015-11-10   \n",
       "2  82a2ecd2-0b94-4629-85c0-141d7af04e5f    ...      COMPLETED     2015-09-24   \n",
       "3  82a2ecd2-0b94-4629-85c0-141d7af04e5f    ...      COMPLETED     2015-09-27   \n",
       "4  82a2ecd2-0b94-4629-85c0-141d7af04e5f    ...      COMPLETED     2015-09-27   \n",
       "\n",
       "   merchant_category merchant_country entry_method  \\\n",
       "0                NaN              NaN         misc   \n",
       "1                NaN              NaN         misc   \n",
       "2                NaN              ITA         misc   \n",
       "3                NaN              ITA         misc   \n",
       "4  point_of_interest              GBR         misc   \n",
       "\n",
       "                                user_id          type source  \\\n",
       "0  62edb2a5-8b28-466a-9a9a-b3e314f2f771           ATM   GAIA   \n",
       "1  f6b7f148-bb9f-42c9-9c56-9243f83ee3d5         TOPUP    NYX   \n",
       "2  82a2ecd2-0b94-4629-85c0-141d7af04e5f  CARD_PAYMENT   GAIA   \n",
       "3  82a2ecd2-0b94-4629-85c0-141d7af04e5f  CARD_PAYMENT   GAIA   \n",
       "4  82a2ecd2-0b94-4629-85c0-141d7af04e5f  CARD_PAYMENT   GAIA   \n",
       "\n",
       "                                   id_y is_fraud_y  \n",
       "0  9d99f7f9-ba47-42e4-8151-a5a2aef27f96          0  \n",
       "1  d659b109-0509-49b1-af70-b9a2158b33a4          0  \n",
       "2  e60174ba-59d1-4084-bcbe-43152f7d22e4          0  \n",
       "3  74d947bd-49e9-42f4-ba74-e18d86fa29d9          0  \n",
       "4  65c7a581-6cbd-4202-9666-f67791ae6c7d          0  \n",
       "\n",
       "[5 rows x 23 columns]"
      ]
     },
     "execution_count": 334,
     "metadata": {},
     "output_type": "execute_result"
    }
   ],
   "source": [
    "# finding out all the unidentified users who have their KYC failed\n",
    "unidentified_df = users_df.query('kyc == \"FAILED\" and has_email == 0 and state == \"ACTIVE\"')\n",
    "\n",
    "# merging(joining) the above dataframe with the transactional database on user_id\n",
    "unidentified_txns = pd.merge(unidentified_df, trans_df, left_on='id', right_on='user_id')\n",
    "\n",
    "unidentified_txns.head()"
   ]
  },
  {
   "cell_type": "markdown",
   "metadata": {},
   "source": [
    "Among the unidentified users, we will check for their transactional data to check for the merchant country. If the country to which the transfer has been made is captured. Narrowing down the list of users who are most likely to be frauds."
   ]
  },
  {
   "cell_type": "code",
   "execution_count": 282,
   "metadata": {},
   "outputs": [
    {
     "data": {
      "text/html": [
       "<div>\n",
       "<style scoped>\n",
       "    .dataframe tbody tr th:only-of-type {\n",
       "        vertical-align: middle;\n",
       "    }\n",
       "\n",
       "    .dataframe tbody tr th {\n",
       "        vertical-align: top;\n",
       "    }\n",
       "\n",
       "    .dataframe thead th {\n",
       "        text-align: right;\n",
       "    }\n",
       "</style>\n",
       "<table border=\"1\" class=\"dataframe\">\n",
       "  <thead>\n",
       "    <tr style=\"text-align: right;\">\n",
       "      <th></th>\n",
       "      <th>failed_sign_in_attempts</th>\n",
       "      <th>kyc</th>\n",
       "      <th>birth_year</th>\n",
       "      <th>country</th>\n",
       "      <th>state_x</th>\n",
       "      <th>created_date_x</th>\n",
       "      <th>terms_version</th>\n",
       "      <th>phone_country</th>\n",
       "      <th>has_email</th>\n",
       "      <th>id_x</th>\n",
       "      <th>...</th>\n",
       "      <th>state_y</th>\n",
       "      <th>created_date_y</th>\n",
       "      <th>merchant_category</th>\n",
       "      <th>merchant_country</th>\n",
       "      <th>entry_method</th>\n",
       "      <th>user_id</th>\n",
       "      <th>type</th>\n",
       "      <th>source</th>\n",
       "      <th>id_y</th>\n",
       "      <th>is_fraud_y</th>\n",
       "    </tr>\n",
       "  </thead>\n",
       "  <tbody>\n",
       "    <tr>\n",
       "      <th>1</th>\n",
       "      <td>0</td>\n",
       "      <td>FAILED</td>\n",
       "      <td>1993</td>\n",
       "      <td>GE</td>\n",
       "      <td>ACTIVE</td>\n",
       "      <td>2015-10-18 07:02:26.487000</td>\n",
       "      <td>NaN</td>\n",
       "      <td>GE</td>\n",
       "      <td>0</td>\n",
       "      <td>f6b7f148-bb9f-42c9-9c56-9243f83ee3d5</td>\n",
       "      <td>...</td>\n",
       "      <td>FAILED</td>\n",
       "      <td>2015-11-10 20:26:34.738000</td>\n",
       "      <td>NaN</td>\n",
       "      <td>NaN</td>\n",
       "      <td>misc</td>\n",
       "      <td>f6b7f148-bb9f-42c9-9c56-9243f83ee3d5</td>\n",
       "      <td>TOPUP</td>\n",
       "      <td>NYX</td>\n",
       "      <td>d659b109-0509-49b1-af70-b9a2158b33a4</td>\n",
       "      <td>0</td>\n",
       "    </tr>\n",
       "    <tr>\n",
       "      <th>12</th>\n",
       "      <td>0</td>\n",
       "      <td>FAILED</td>\n",
       "      <td>1981</td>\n",
       "      <td>GB</td>\n",
       "      <td>ACTIVE</td>\n",
       "      <td>2015-08-09 07:33:29.491000</td>\n",
       "      <td>NaN</td>\n",
       "      <td>GB||JE||IM||GG</td>\n",
       "      <td>0</td>\n",
       "      <td>82a2ecd2-0b94-4629-85c0-141d7af04e5f</td>\n",
       "      <td>...</td>\n",
       "      <td>FAILED</td>\n",
       "      <td>2015-09-12 17:54:05.164000</td>\n",
       "      <td>NaN</td>\n",
       "      <td>NaN</td>\n",
       "      <td>misc</td>\n",
       "      <td>82a2ecd2-0b94-4629-85c0-141d7af04e5f</td>\n",
       "      <td>TOPUP</td>\n",
       "      <td>NYX</td>\n",
       "      <td>a273f810-5164-4add-a1c9-415c02fe0bd5</td>\n",
       "      <td>0</td>\n",
       "    </tr>\n",
       "    <tr>\n",
       "      <th>23</th>\n",
       "      <td>0</td>\n",
       "      <td>FAILED</td>\n",
       "      <td>1981</td>\n",
       "      <td>GB</td>\n",
       "      <td>ACTIVE</td>\n",
       "      <td>2015-08-09 07:33:29.491000</td>\n",
       "      <td>NaN</td>\n",
       "      <td>GB||JE||IM||GG</td>\n",
       "      <td>0</td>\n",
       "      <td>82a2ecd2-0b94-4629-85c0-141d7af04e5f</td>\n",
       "      <td>...</td>\n",
       "      <td>FAILED</td>\n",
       "      <td>2015-09-12 17:53:19.285000</td>\n",
       "      <td>NaN</td>\n",
       "      <td>NaN</td>\n",
       "      <td>misc</td>\n",
       "      <td>82a2ecd2-0b94-4629-85c0-141d7af04e5f</td>\n",
       "      <td>TOPUP</td>\n",
       "      <td>NYX</td>\n",
       "      <td>0093eb87-1d9b-4b55-96b1-8e66f49c1e49</td>\n",
       "      <td>0</td>\n",
       "    </tr>\n",
       "    <tr>\n",
       "      <th>24</th>\n",
       "      <td>0</td>\n",
       "      <td>FAILED</td>\n",
       "      <td>1981</td>\n",
       "      <td>GB</td>\n",
       "      <td>ACTIVE</td>\n",
       "      <td>2015-08-09 07:33:29.491000</td>\n",
       "      <td>NaN</td>\n",
       "      <td>GB||JE||IM||GG</td>\n",
       "      <td>0</td>\n",
       "      <td>82a2ecd2-0b94-4629-85c0-141d7af04e5f</td>\n",
       "      <td>...</td>\n",
       "      <td>FAILED</td>\n",
       "      <td>2015-09-13 08:47:18.607000</td>\n",
       "      <td>NaN</td>\n",
       "      <td>NaN</td>\n",
       "      <td>misc</td>\n",
       "      <td>82a2ecd2-0b94-4629-85c0-141d7af04e5f</td>\n",
       "      <td>TOPUP</td>\n",
       "      <td>NYX</td>\n",
       "      <td>9123565c-31f5-4570-b8d8-c7d5b25b2b5d</td>\n",
       "      <td>0</td>\n",
       "    </tr>\n",
       "    <tr>\n",
       "      <th>25</th>\n",
       "      <td>0</td>\n",
       "      <td>FAILED</td>\n",
       "      <td>1981</td>\n",
       "      <td>GB</td>\n",
       "      <td>ACTIVE</td>\n",
       "      <td>2015-08-09 07:33:29.491000</td>\n",
       "      <td>NaN</td>\n",
       "      <td>GB||JE||IM||GG</td>\n",
       "      <td>0</td>\n",
       "      <td>82a2ecd2-0b94-4629-85c0-141d7af04e5f</td>\n",
       "      <td>...</td>\n",
       "      <td>COMPLETED</td>\n",
       "      <td>2015-09-13 10:15:08.022000</td>\n",
       "      <td>NaN</td>\n",
       "      <td>NaN</td>\n",
       "      <td>misc</td>\n",
       "      <td>82a2ecd2-0b94-4629-85c0-141d7af04e5f</td>\n",
       "      <td>TOPUP</td>\n",
       "      <td>OPHION</td>\n",
       "      <td>195826d8-73f3-4e72-a6dc-c784819dec18</td>\n",
       "      <td>0</td>\n",
       "    </tr>\n",
       "  </tbody>\n",
       "</table>\n",
       "<p>5 rows × 23 columns</p>\n",
       "</div>"
      ],
      "text/plain": [
       "    failed_sign_in_attempts     kyc  birth_year country state_x  \\\n",
       "1                         0  FAILED        1993      GE  ACTIVE   \n",
       "12                        0  FAILED        1981      GB  ACTIVE   \n",
       "23                        0  FAILED        1981      GB  ACTIVE   \n",
       "24                        0  FAILED        1981      GB  ACTIVE   \n",
       "25                        0  FAILED        1981      GB  ACTIVE   \n",
       "\n",
       "                created_date_x terms_version   phone_country  has_email  \\\n",
       "1   2015-10-18 07:02:26.487000           NaN              GE          0   \n",
       "12  2015-08-09 07:33:29.491000           NaN  GB||JE||IM||GG          0   \n",
       "23  2015-08-09 07:33:29.491000           NaN  GB||JE||IM||GG          0   \n",
       "24  2015-08-09 07:33:29.491000           NaN  GB||JE||IM||GG          0   \n",
       "25  2015-08-09 07:33:29.491000           NaN  GB||JE||IM||GG          0   \n",
       "\n",
       "                                    id_x    ...        state_y  \\\n",
       "1   f6b7f148-bb9f-42c9-9c56-9243f83ee3d5    ...         FAILED   \n",
       "12  82a2ecd2-0b94-4629-85c0-141d7af04e5f    ...         FAILED   \n",
       "23  82a2ecd2-0b94-4629-85c0-141d7af04e5f    ...         FAILED   \n",
       "24  82a2ecd2-0b94-4629-85c0-141d7af04e5f    ...         FAILED   \n",
       "25  82a2ecd2-0b94-4629-85c0-141d7af04e5f    ...      COMPLETED   \n",
       "\n",
       "                created_date_y  merchant_category merchant_country  \\\n",
       "1   2015-11-10 20:26:34.738000                NaN              NaN   \n",
       "12  2015-09-12 17:54:05.164000                NaN              NaN   \n",
       "23  2015-09-12 17:53:19.285000                NaN              NaN   \n",
       "24  2015-09-13 08:47:18.607000                NaN              NaN   \n",
       "25  2015-09-13 10:15:08.022000                NaN              NaN   \n",
       "\n",
       "   entry_method                               user_id   type  source  \\\n",
       "1          misc  f6b7f148-bb9f-42c9-9c56-9243f83ee3d5  TOPUP     NYX   \n",
       "12         misc  82a2ecd2-0b94-4629-85c0-141d7af04e5f  TOPUP     NYX   \n",
       "23         misc  82a2ecd2-0b94-4629-85c0-141d7af04e5f  TOPUP     NYX   \n",
       "24         misc  82a2ecd2-0b94-4629-85c0-141d7af04e5f  TOPUP     NYX   \n",
       "25         misc  82a2ecd2-0b94-4629-85c0-141d7af04e5f  TOPUP  OPHION   \n",
       "\n",
       "                                    id_y is_fraud_y  \n",
       "1   d659b109-0509-49b1-af70-b9a2158b33a4          0  \n",
       "12  a273f810-5164-4add-a1c9-415c02fe0bd5          0  \n",
       "23  0093eb87-1d9b-4b55-96b1-8e66f49c1e49          0  \n",
       "24  9123565c-31f5-4570-b8d8-c7d5b25b2b5d          0  \n",
       "25  195826d8-73f3-4e72-a6dc-c784819dec18          0  \n",
       "\n",
       "[5 rows x 23 columns]"
      ]
     },
     "execution_count": 282,
     "metadata": {},
     "output_type": "execute_result"
    }
   ],
   "source": [
    "# checking for NaN values in the merchant_country column in the above obtained dataframe and since TOPUP corresponds\n",
    "# to financial loss, any transaction by an unauthorized user should not be using this method of transaction.\n",
    "\n",
    "frauds_df = unidentified_txns.query('merchant_country.isnull() and merchant_country.isnull() and type == \"TOPUP\"')\n",
    "frauds_df.head()"
   ]
  },
  {
   "cell_type": "markdown",
   "metadata": {},
   "source": [
    "We have the frauds which are:\n",
    "1. Not KYC compliant\n",
    "2. No email registered\n",
    "3. Are active on the app\n",
    "4. Don't have the merchant country mentioned.\n",
    "5. Using TOPUP type transaction\n",
    "\n",
    "Next, we need to take into account the users who are transacting frequency is over a threshold. This is going to account for any script or backend attack."
   ]
  },
  {
   "cell_type": "code",
   "execution_count": 283,
   "metadata": {},
   "outputs": [
    {
     "data": {
      "text/plain": [
       "['ec4fd825-7167-450b-aa9f-0cbcf681978b',\n",
       " '1e3ad24b-8818-4db9-82fb-a0c30fc5b35a',\n",
       " '073abac2-836b-4964-9005-d0aed492cd96',\n",
       " 'abfc3bdc-f09c-4eff-982c-fb8af72b07ad',\n",
       " 'a24b204c-3b6a-446a-8b06-20dd150a4805']"
      ]
     },
     "execution_count": 283,
     "metadata": {},
     "output_type": "execute_result"
    }
   ],
   "source": [
    "# We will be converting the datetime column into simple date column in the transaction dataframe\n",
    "# to learn about the number of transactions per day.\n",
    "\n",
    "trans_df['created_date'] = trans_df['created_date'].astype('datetime64[s]').dt.date\n",
    "freq_trans_df = trans_df.groupby(['created_date', 'user_id']).count()\n",
    "\n",
    "# Now marking users who are doing more than 30 transactions in a day.\n",
    "a = freq_trans_df[freq_trans_df['amount'] > 50].reset_index(level=0, drop=True)\n",
    "freq_txn_user_ids = a.index.unique()\n",
    "list(freq_txn_user_ids)"
   ]
  },
  {
   "cell_type": "markdown",
   "metadata": {},
   "source": [
    "### Removing all the already obtained fraudsters in the list"
   ]
  },
  {
   "cell_type": "code",
   "execution_count": 284,
   "metadata": {},
   "outputs": [],
   "source": [
    "fraud_id_set = set(frauds_df['id_x'])\n",
    "potential_fraudsters = fraud_id_set - set(fraudster_df['user_id'])"
   ]
  },
  {
   "cell_type": "code",
   "execution_count": 285,
   "metadata": {},
   "outputs": [
    {
     "data": {
      "text/plain": [
       "{'146cb748-d9a7-410a-b2ec-f5c403f7149d',\n",
       " '16102a27-534e-48d7-b7d2-99e08e6c7597',\n",
       " '1eb7c725-f748-4e76-98cc-1bb6b58d4e4a',\n",
       " '5302559e-9dbd-4f1d-ba3b-4e5a10f0e51a',\n",
       " '5ff27f1c-65e2-426f-a139-56d7cf6f4a42',\n",
       " '78a0cfa2-f9d3-4f07-94c4-a97f76595589',\n",
       " '82a2ecd2-0b94-4629-85c0-141d7af04e5f',\n",
       " 'acbb5850-8df2-4614-a277-83e020a9edc9',\n",
       " 'c876e9f6-c0f8-4ee6-80a0-2a9ef751cc80',\n",
       " 'ccc08947-8246-45c3-ae88-8f9327b60a74',\n",
       " 'd1e9aea4-e0e3-4ac3-af74-f8095c8b8861',\n",
       " 'd4aee110-f821-4545-b617-1f49eacad2b9',\n",
       " 'dd8e1dd7-e467-41ff-908f-4e0ab64d9af3',\n",
       " 'e0ff10b4-4e05-45c8-9183-ab45ae37913e',\n",
       " 'e14f2def-d412-4ba6-90da-6ff8c8bf2782',\n",
       " 'f6b7f148-bb9f-42c9-9c56-9243f83ee3d5'}"
      ]
     },
     "execution_count": 285,
     "metadata": {},
     "output_type": "execute_result"
    }
   ],
   "source": [
    "# Here is the final list of potential fraudsters on our platform.\n",
    "potential_fraudsters"
   ]
  },
  {
   "cell_type": "markdown",
   "metadata": {},
   "source": [
    "# ============================================================="
   ]
  },
  {
   "cell_type": "markdown",
   "metadata": {},
   "source": [
    "## Question 2(b)\n",
    "\n",
    "### Now, there are some high risk users who are transacting heavily big amounts. These will be bucketed as high risk users."
   ]
  },
  {
   "cell_type": "code",
   "execution_count": 332,
   "metadata": {},
   "outputs": [
    {
     "data": {
      "text/plain": [
       "array(['dc283b17-bbe1-4ae9-a11c-0029d5ae71d9',\n",
       "       '1e3ad24b-8818-4db9-82fb-a0c30fc5b35a',\n",
       "       '0bed6203-0ed0-4e40-8f9c-e52ed7dedb6a',\n",
       "       'a275b394-b1fa-494e-b6f7-010c5e17f7c6',\n",
       "       '4f41a015-5205-467d-98d6-a90d343e8afb',\n",
       "       'a51d33e2-82ac-4556-ba1b-7364bc9ae8f5',\n",
       "       '1ac43c83-6c00-41cb-943c-7279a79ff2aa'], dtype=object)"
      ]
     },
     "execution_count": 332,
     "metadata": {},
     "output_type": "execute_result"
    }
   ],
   "source": [
    "# Among the above high frequency users, we will mark those who are making transactions above 450000\n",
    "# Now marking users who are doing more than 30 transactions in a day.\n",
    "risky_users = freq_trans_df[freq_trans_df['amount'] > 30].reset_index(level=0, drop=True)\n",
    "freq_txn_user_ids = risky_users.index.unique()\n",
    "list(freq_txn_user_ids)\n",
    "\n",
    "df = pd.DataFrame({'user_id':list(freq_txn_user_ids)})\n",
    "big_risk_df = pd.merge(df, trans_df, on='user_id', how='left')\n",
    "big_risk_df = big_risk_df[big_risk_df['amount'] > 500000]\n",
    "high_risk_users = big_risk_df['user_id'].unique()\n",
    "high_risk_users"
   ]
  },
  {
   "cell_type": "code",
   "execution_count": 333,
   "metadata": {},
   "outputs": [
    {
     "data": {
      "text/plain": [
       "{'16102a27-534e-48d7-b7d2-99e08e6c7597',\n",
       " '1e3ad24b-8818-4db9-82fb-a0c30fc5b35a',\n",
       " 'a275b394-b1fa-494e-b6f7-010c5e17f7c6',\n",
       " 'a51d33e2-82ac-4556-ba1b-7364bc9ae8f5'}"
      ]
     },
     "execution_count": 333,
     "metadata": {},
     "output_type": "execute_result"
    }
   ],
   "source": [
    "high_pot_fraudsters = set(high_pot_frauds_df['id_x']).union(set(high_risk_users)) - set(fraudster_df['user_id'])\n",
    "high_pot_fraudsters"
   ]
  },
  {
   "cell_type": "markdown",
   "metadata": {},
   "source": [
    "### Ids of the high risk users."
   ]
  },
  {
   "cell_type": "code",
   "execution_count": 329,
   "metadata": {},
   "outputs": [
    {
     "data": {
      "text/plain": [
       "{'16102a27-534e-48d7-b7d2-99e08e6c7597',\n",
       " '1e3ad24b-8818-4db9-82fb-a0c30fc5b35a',\n",
       " '89e2d74a-2d20-41ae-93ee-45695c702574',\n",
       " 'abfc3bdc-f09c-4eff-982c-fb8af72b07ad',\n",
       " 'ec4fd825-7167-450b-aa9f-0cbcf681978b'}"
      ]
     },
     "execution_count": 329,
     "metadata": {},
     "output_type": "execute_result"
    }
   ],
   "source": [
    "high_pot_fraudsters"
   ]
  },
  {
   "cell_type": "markdown",
   "metadata": {},
   "source": [
    "## Financial crime Typology and Due Diligence\n",
    "\n",
    "For high risk users who are transacting heabily on the app with more than 45 transactions in a day and all of them being a very large amount(more than 500000 which is huge even ):\n",
    "\n",
    "The crime typology associated with the above users are:\n",
    "1. Structuring (smurfing): A method involving numerous transactions (deposits, withdrawals, transfers), often various people, high volumes of transactions and sometimes numerous accounts to avoid detection threshold reporting obligations.\n",
    "2. Bust out: Here the hackers and thieves create accounts, make a large number of transactions until they are caught and locked out.\n",
    "3. Cash couriers / currency smuggling: concealed movement of currency to avoid transaction / cash reporting measures. To quickly move large amount of currency out of the country as it beomes difficul to get back the amount once it is transferred overseas.\n",
    "\n",
    "\n",
    "### For potential fraudsters:\n",
    "\n",
    "We have clearly focused on the legal identification of the user to be able to transact the money.\n",
    "\n",
    "Users who don't have their KYC done, we don't have any record or method to:\n",
    "- keep track of their source of income\n",
    "- assess further potential risks like money laundering, concealment of businesses and other internet sourced frauds.\n",
    "- make sure that all our clients are anti-bribery compliant\n",
    "- to put in place an anti-corruption due diligence \n",
    "\n",
    "Keeping in mind the above mentioned crucial factors, here is how we can conduct due diligence on these high risk users:\n",
    "1. Revoking their permission to make any transaction before they get their KYC PASSED.\n",
    "2. Streamline the process of getting a KYC as most of the users are opt out because of this obligation. We need to incorporate the compliance without harming the business.\n",
    "3. For an amount greater than 20000, Merchant's country should be made mandatory to be supplied.\n",
    "4. Email should be verified along with the phone number.\n",
    "5. All the tax reciepts / PAN(Anti-corruption information) card details should be verified. \n"
   ]
  },
  {
   "cell_type": "markdown",
   "metadata": {},
   "source": [
    "# ============================================================"
   ]
  },
  {
   "cell_type": "markdown",
   "metadata": {},
   "source": [
    "## Question 3(a)\n",
    "\n",
    "Exploring the already figured fraudsters in the fraudsters.csv. Mapping the relationships between fraudsters, users and transactions files.\n",
    "\n",
    "Steps to perform EDA(Exploratory Data Analysis) which is done at the starting of the \n",
    "\n",
    "1. Pick up an id from the fraudsters file and run it over in the users and transactions file.\n",
    "2. Look for a pattern which is common or an anomaly in all the columns in the two files.\n",
    "3. To make it easy, we'll merge the fraudsters dataframe with the users df to explore the fraudsters' user details.\n",
    "4. We'll also have a merge of fraudsters and transactions dataframe to understand the fraudsters transaction pattern.\n"
   ]
  },
  {
   "cell_type": "code",
   "execution_count": 64,
   "metadata": {},
   "outputs": [
    {
     "data": {
      "image/png": "[encoded data removed]",
      "text/plain": [
       "<Figure size 432x288 with 1 Axes>"
      ]
     },
     "metadata": {
      "needs_background": "light"
     },
     "output_type": "display_data"
    }
   ],
   "source": [
    "ax = trans_df.groupby(['type', 'is_fraud']).size().plot(kind='bar')\n",
    "ax.set_title(\"# of transaction which are fraud per transaction type\")\n",
    "ax.set_xlabel(\"(Type, isFraud)\")\n",
    "ax.set_ylabel(\"Count of transaction\")\n",
    "for p in ax.patches:\n",
    "    ax.annotate(str(format(int(p.get_height()), ',d')), (p.get_x(), p.get_height()*1.01))"
   ]
  },
  {
   "cell_type": "markdown",
   "metadata": {},
   "source": [
    "As can be seen in the above bar plot, most number of fradulent transactions are from CARD_PAYMENT which because it is also the most used transaction type. But let's take a look at the percentages here:\n",
    "1. Percentage of TOPUPs which are fraudulent = 56 / 132505 * 100 = 0.04%\n",
    "2. Percentage of CARD_PAYMENT which are fraudulent = 128 / 436442 * 100 = 0.02%\n",
    "\n",
    "Thus, these percentages are not giving a conclusive picture which can help us decide a concrete "
   ]
  },
  {
   "cell_type": "code",
   "execution_count": 335,
   "metadata": {},
   "outputs": [
    {
     "data": {
      "text/plain": [
       "1"
      ]
     },
     "execution_count": 335,
     "metadata": {},
     "output_type": "execute_result"
    }
   ],
   "source": [
    "# Merging the fraudster dataframe with the transaction to understand the transaction patterns of fraudsters.\n",
    "\n",
    "fr_txn_df = pd.merge(fraudster_df, trans_df, on=\"user_id\", how = \"left\")\n",
    "\n",
    "\"\"\"\n",
    "get the ids of the users who have:\n",
    "1. transacted more than 700000 in amount,\n",
    "2. Don't have the merchant country specified\n",
    "\"\"\" \n",
    "ids = trans_df.query('amount > 700000 and type == \"CARD_PAYMENT\"')['user_id'].unique()\n",
    "len(set(ids).intersection(set(fraudster_df['user_id'])))"
   ]
  },
  {
   "cell_type": "markdown",
   "metadata": {},
   "source": [
    "### Reasoning #1 for understanding the factors mentioned above\n",
    "\n",
    "So, we can see that almost half of the fraudsters are those who have transacted an amount of more than 100000 and have their merchant country unspecified. The type of all of these large amount of transaction is Topup.\n",
    "\n",
    "Why are these factors important?\n",
    "\n",
    "1. Making a large amount transaction with no merchant country specified can lead to many cases of money laundering.\n",
    "2. When a large transaction is being made, there is a huge risk in a TopUP transaction."
   ]
  },
  {
   "cell_type": "code",
   "execution_count": 342,
   "metadata": {},
   "outputs": [
    {
     "data": {
      "text/html": [
       "<div>\n",
       "<style scoped>\n",
       "    .dataframe tbody tr th:only-of-type {\n",
       "        vertical-align: middle;\n",
       "    }\n",
       "\n",
       "    .dataframe tbody tr th {\n",
       "        vertical-align: top;\n",
       "    }\n",
       "\n",
       "    .dataframe thead th {\n",
       "        text-align: right;\n",
       "    }\n",
       "</style>\n",
       "<table border=\"1\" class=\"dataframe\">\n",
       "  <thead>\n",
       "    <tr style=\"text-align: right;\">\n",
       "      <th></th>\n",
       "      <th>currency</th>\n",
       "      <th>amount</th>\n",
       "      <th>created_date</th>\n",
       "      <th>merchant_category</th>\n",
       "      <th>merchant_country</th>\n",
       "      <th>entry_method</th>\n",
       "      <th>user_id</th>\n",
       "      <th>type</th>\n",
       "      <th>source</th>\n",
       "      <th>id</th>\n",
       "      <th>is_fraud</th>\n",
       "    </tr>\n",
       "    <tr>\n",
       "      <th>state</th>\n",
       "      <th></th>\n",
       "      <th></th>\n",
       "      <th></th>\n",
       "      <th></th>\n",
       "      <th></th>\n",
       "      <th></th>\n",
       "      <th></th>\n",
       "      <th></th>\n",
       "      <th></th>\n",
       "      <th></th>\n",
       "      <th></th>\n",
       "    </tr>\n",
       "  </thead>\n",
       "  <tbody>\n",
       "    <tr>\n",
       "      <th>CANCELLED</th>\n",
       "      <td>20</td>\n",
       "      <td>20</td>\n",
       "      <td>20</td>\n",
       "      <td>0</td>\n",
       "      <td>0</td>\n",
       "      <td>20</td>\n",
       "      <td>20</td>\n",
       "      <td>20</td>\n",
       "      <td>20</td>\n",
       "      <td>20</td>\n",
       "      <td>20</td>\n",
       "    </tr>\n",
       "    <tr>\n",
       "      <th>COMPLETED</th>\n",
       "      <td>10484</td>\n",
       "      <td>10484</td>\n",
       "      <td>10484</td>\n",
       "      <td>3311</td>\n",
       "      <td>6302</td>\n",
       "      <td>10484</td>\n",
       "      <td>10484</td>\n",
       "      <td>10484</td>\n",
       "      <td>10484</td>\n",
       "      <td>10484</td>\n",
       "      <td>10484</td>\n",
       "    </tr>\n",
       "    <tr>\n",
       "      <th>DECLINED</th>\n",
       "      <td>2187</td>\n",
       "      <td>2187</td>\n",
       "      <td>2187</td>\n",
       "      <td>564</td>\n",
       "      <td>2124</td>\n",
       "      <td>2187</td>\n",
       "      <td>2187</td>\n",
       "      <td>2187</td>\n",
       "      <td>2187</td>\n",
       "      <td>2187</td>\n",
       "      <td>2187</td>\n",
       "    </tr>\n",
       "    <tr>\n",
       "      <th>FAILED</th>\n",
       "      <td>659</td>\n",
       "      <td>659</td>\n",
       "      <td>659</td>\n",
       "      <td>0</td>\n",
       "      <td>0</td>\n",
       "      <td>659</td>\n",
       "      <td>659</td>\n",
       "      <td>659</td>\n",
       "      <td>659</td>\n",
       "      <td>659</td>\n",
       "      <td>659</td>\n",
       "    </tr>\n",
       "    <tr>\n",
       "      <th>PENDING</th>\n",
       "      <td>6</td>\n",
       "      <td>6</td>\n",
       "      <td>6</td>\n",
       "      <td>1</td>\n",
       "      <td>1</td>\n",
       "      <td>6</td>\n",
       "      <td>6</td>\n",
       "      <td>6</td>\n",
       "      <td>6</td>\n",
       "      <td>6</td>\n",
       "      <td>6</td>\n",
       "    </tr>\n",
       "    <tr>\n",
       "      <th>RECORDED</th>\n",
       "      <td>2</td>\n",
       "      <td>2</td>\n",
       "      <td>2</td>\n",
       "      <td>0</td>\n",
       "      <td>2</td>\n",
       "      <td>2</td>\n",
       "      <td>2</td>\n",
       "      <td>2</td>\n",
       "      <td>2</td>\n",
       "      <td>2</td>\n",
       "      <td>2</td>\n",
       "    </tr>\n",
       "    <tr>\n",
       "      <th>REVERTED</th>\n",
       "      <td>1185</td>\n",
       "      <td>1185</td>\n",
       "      <td>1185</td>\n",
       "      <td>250</td>\n",
       "      <td>650</td>\n",
       "      <td>1185</td>\n",
       "      <td>1185</td>\n",
       "      <td>1185</td>\n",
       "      <td>1185</td>\n",
       "      <td>1185</td>\n",
       "      <td>1185</td>\n",
       "    </tr>\n",
       "  </tbody>\n",
       "</table>\n",
       "</div>"
      ],
      "text/plain": [
       "           currency  amount  created_date  merchant_category  \\\n",
       "state                                                          \n",
       "CANCELLED        20      20            20                  0   \n",
       "COMPLETED     10484   10484         10484               3311   \n",
       "DECLINED       2187    2187          2187                564   \n",
       "FAILED          659     659           659                  0   \n",
       "PENDING           6       6             6                  1   \n",
       "RECORDED          2       2             2                  0   \n",
       "REVERTED       1185    1185          1185                250   \n",
       "\n",
       "           merchant_country  entry_method  user_id   type  source     id  \\\n",
       "state                                                                      \n",
       "CANCELLED                 0            20       20     20      20     20   \n",
       "COMPLETED              6302         10484    10484  10484   10484  10484   \n",
       "DECLINED               2124          2187     2187   2187    2187   2187   \n",
       "FAILED                    0           659      659    659     659    659   \n",
       "PENDING                   1             6        6      6       6      6   \n",
       "RECORDED                  2             2        2      2       2      2   \n",
       "REVERTED                650          1185     1185   1185    1185   1185   \n",
       "\n",
       "           is_fraud  \n",
       "state                \n",
       "CANCELLED        20  \n",
       "COMPLETED     10484  \n",
       "DECLINED       2187  \n",
       "FAILED          659  \n",
       "PENDING           6  \n",
       "RECORDED          2  \n",
       "REVERTED       1185  "
      ]
     },
     "execution_count": 342,
     "metadata": {},
     "output_type": "execute_result"
    },
    {
     "data": {
      "image/png": "[encoded data removed]",
      "text/plain": [
       "<Figure size 432x288 with 1 Axes>"
      ]
     },
     "metadata": {
      "needs_background": "light"
     },
     "output_type": "display_data"
    }
   ],
   "source": [
    "#  plotting to check if the state of the transaction has any effect on fraudulent transactions\n",
    "trans_df[trans_df['is_fraud'] == 1].groupby(['state']).count()[\"is_fraud\"].plot(kind = \"bar\")\n",
    "trans_df[trans_df['is_fraud'] == 1].groupby(['state']).count()"
   ]
  },
  {
   "cell_type": "markdown",
   "metadata": {},
   "source": [
    "### Reasoning #2 for understanding the state of the transactions\n",
    "\n",
    "The data is highly imbalances as can be seen from the graph which is always the case in fraud detection. But we can see that there are a number declined transactions which have been marked as fraudulent.\n",
    "\n",
    "Nothing too concrete from here but we can take a look at the number of declined transaction"
   ]
  },
  {
   "cell_type": "markdown",
   "metadata": {},
   "source": [
    "### Looking at the number of transactions done by a user in a day"
   ]
  },
  {
   "cell_type": "code",
   "execution_count": 13,
   "metadata": {},
   "outputs": [
    {
     "data": {
      "text/plain": [
       "81"
      ]
     },
     "execution_count": 13,
     "metadata": {},
     "output_type": "execute_result"
    }
   ],
   "source": [
    "# Grouping by created_date and user_id in the transaction dataframes.\n",
    "\n",
    "trans_df['created_date'] = trans_df['created_date'].astype('datetime64[s]').dt.date\n",
    "freq_frd_txn_df = trans_df.groupby(['created_date', 'user_id']).count()\n",
    "\n",
    "# for over 10 transactions in a day by a normal user\n",
    "freq_frd_txn_df = freq_frd_txn_df[freq_frd_txn_df['amount'] > 10].reset_index(level=0, drop=True)\n",
    "usr_ids = freq_frd_txn_df.index.unique()\n",
    "len(set(usr_ids).intersection(set(fraudster_df['user_id'])))"
   ]
  },
  {
   "cell_type": "markdown",
   "metadata": {},
   "source": [
    "### Reasoning #3 for understanding the frequency of transactions\n",
    "\n",
    "A very crucial factor in the transactional data is the number of transactions done by a user because of the following attacks:\n",
    "\n",
    "`81 out of 300 fraudsters are doing more than 10 transactions in a day`\n",
    "\n",
    "1. There may be a malicious bot/script running which is making the transactions.\n",
    "2. To capture all the bust out frauds: Users do this to make their credit score where they process as many fraudulent transactions as possible within a short amount of time, and before being caught."
   ]
  },
  {
   "cell_type": "markdown",
   "metadata": {},
   "source": [
    "## Features indicative of detecting fraudsters:\n",
    "\n",
    "1. Frequency of transactions per day.\n",
    "2. The amount of the transaction and the type of transaction.\n",
    "3. Merchant's country\n",
    "4. State of the transaction\n",
    "\n"
   ]
  },
  {
   "cell_type": "markdown",
   "metadata": {},
   "source": [
    "# =============================================================="
   ]
  },
  {
   "cell_type": "markdown",
   "metadata": {},
   "source": [
    "## Question 3(b)\n",
    "\n",
    "Two items that we'll need from the data team to better detect the fraudsters are:\n",
    "\n",
    "1. Information about the merchant ids and business, this can be publicly available authentic data. - One of the most common frauds in the industry today is Transaction laundering and until and unless we strictly monitor the merchants to whom the transaction is being made, there will not be a concrete evidence against the fraudster.\n",
    "\n",
    "2. Details on different type of accounts/users and their privileges/permissions(if any) on the platform.  - This will help us conduct enhanced due diligence and set up a clear boundaries for each type of users. "
   ]
  },
  {
   "cell_type": "markdown",
   "metadata": {},
   "source": [
    "# =============================================================="
   ]
  }
 ],
 "metadata": {
  "kernelspec": {
   "display_name": "Python 3",
   "language": "python",
   "name": "python3"
  },
  "language_info": {
   "codemirror_mode": {
    "name": "ipython",
    "version": 3
   },
   "file_extension": ".py",
   "mimetype": "text/x-python",
   "name": "python",
   "nbconvert_exporter": "python",
   "pygments_lexer": "ipython3",
   "version": "3.6.5"
  }
 },
 "nbformat": 4,
 "nbformat_minor": 2
}
